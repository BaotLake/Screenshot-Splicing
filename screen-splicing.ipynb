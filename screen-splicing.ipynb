{
 "cells": [
  {
   "cell_type": "markdown",
   "metadata": {},
   "source": [
    "# screen-splicing Notebook"
   ]
  },
  {
   "cell_type": "code",
   "execution_count": 2,
   "metadata": {
    "datalore": {
     "hide_input_from_viewers": false,
     "hide_output_from_viewers": false,
     "type": "CODE"
    }
   },
   "outputs": [
    {
     "name": "stdout",
     "output_type": "stream",
     "text": [
      "Usage: splicing.py [OPTIONS] SRC\n",
      "\n",
      "Options:\n",
      "  --crop-top FLOAT       top crop height of the image, such as a fixed header\n",
      "  --crop-bottom FLOAT    bottom crop height of the image, such as a fixed\n",
      "                         footer\n",
      "\n",
      "  --expect-offset FLOAT\n",
      "  -o, --output TEXT      output path\n",
      "  -t, --transpose        for horizontal scrolling\n",
      "  --seam-width INTEGER   for debugging, show seams, set seam width\n",
      "  -v, --verbose\n",
      "  --min-overlap FLOAT\n",
      "  --help                 Show this message and exit.\n"
     ]
    }
   ],
   "source": [
    "!python ./splicing/splicing.py --help"
   ]
  },
  {
   "cell_type": "code",
   "execution_count": 3,
   "metadata": {
    "datalore": {
     "hide_input_from_viewers": false,
     "hide_output_from_viewers": false,
     "type": "CODE"
    }
   },
   "outputs": [
    {
     "data": {
      "text/html": [
       "<h1>Examples</h1>\n",
       "<div style=\"display:grid; grid: 1fr / auto-flow; grad-gap: 3px\">\n",
       "    <video src=\"./examples/safari.MP4\" width=\"330\" height=\"480\" controls loop muted autoplay ></video>\n",
       "    <video src=\"./examples/weread.MP4\" width=\"330\" height=\"480\" controls loop muted autoplay ></video>\n",
       "    <video src=\"./examples/pt.mp4\" width=\"220\" height=\"480\" controls loop muted autoplay ></video>\n",
       "</div>\n"
      ],
      "text/plain": [
       "<IPython.core.display.HTML object>"
      ]
     },
     "metadata": {},
     "output_type": "display_data"
    }
   ],
   "source": [
    "%%html\n",
    "<h1>Examples</h1>\n",
    "<div style=\"display:grid; grid: 1fr / auto-flow; grad-gap: 3px\">\n",
    "    <video src=\"./examples/safari.MP4\" width=\"330\" height=\"480\" controls loop muted autoplay ></video>\n",
    "    <video src=\"./examples/weread.MP4\" width=\"330\" height=\"480\" controls loop muted autoplay ></video>\n",
    "    <video src=\"./examples/pt.mp4\" width=\"220\" height=\"480\" controls loop muted autoplay ></video>\n",
    "</div>"
   ]
  },
  {
   "cell_type": "code",
   "execution_count": 4,
   "metadata": {
    "datalore": {
     "hide_input_from_viewers": false,
     "hide_output_from_viewers": false,
     "type": "CODE"
    }
   },
   "outputs": [
    {
     "name": "stdout",
     "output_type": "stream",
     "text": [
      "python ./splicing/splicing.py ./examples/safari.MP4 -o ./examples/safari.jpg  3.86s user 1.62s system 102% cpu 5.326 total\n",
      "python ./splicing/splicing.py ./examples/weread.MP4 -o ./examples/weread.jpg  5.29s user 1.69s system 118% cpu 5.885 total\n",
      "python ./splicing/splicing.py -t ./examples/pt.mp4 -o ./examples/pt.jpg  1.94s user 0.63s system 108% cpu 2.372 total\n"
     ]
    }
   ],
   "source": [
    "# examples/safari.MP4\n",
    "!time python ./splicing/splicing.py ./examples/safari.MP4 -o ./examples/safari.jpg\n",
    "\n",
    "# examples/weread.MP4\n",
    "!time python ./splicing/splicing.py ./examples/weread.MP4 -o ./examples/weread.jpg\n",
    "\n",
    "# examples/pt.mp4\n",
    "!time python ./splicing/splicing.py -t ./examples/pt.mp4 -o ./examples/pt.jpg"
   ]
  },
  {
   "cell_type": "code",
   "execution_count": 1,
   "metadata": {
    "datalore": {
     "hide_input_from_viewers": false,
     "hide_output_from_viewers": false,
     "type": "CODE"
    }
   },
   "outputs": [
    {
     "data": {
      "text/html": [
       "<h1>examples</h1>\n",
       "<div style=\"display:grid; grid: 1fr / auto-flow; grad-gap: 3px\">\n",
       "    <div style=\"max-height: 600px; overflow:auto;\">\n",
       "        <img src=\"./examples/safari.jpg\" width=\"300\" style=\"object-fit: contain\" ></img>\n",
       "    </div>\n",
       "    <div style=\"max-height: 600px; overflow:auto;\">\n",
       "        <img src=\"./examples/weread.jpg\" width=\"300\" style=\"object-fit: contain\" ></img>\n",
       "    </div>\n",
       "    <div style=\"overflow:auto;\">\n",
       "        <img src=\"./examples/pt.jpg\" width=\"600\" style=\"object-fit: contain; max-width: none\" ></img>\n",
       "    </div>\n",
       "</div>\n"
      ],
      "text/plain": [
       "<IPython.core.display.HTML object>"
      ]
     },
     "metadata": {},
     "output_type": "display_data"
    }
   ],
   "source": [
    "%%html\n",
    "<h1>examples</h1>\n",
    "<div style=\"display:grid; grid: 1fr / auto-flow; grad-gap: 3px\">\n",
    "    <div style=\"max-height: 600px; overflow:auto;\">\n",
    "        <img src=\"./examples/safari.jpg\" width=\"300\" style=\"object-fit: contain\" ></img>\n",
    "    </div>\n",
    "    <div style=\"max-height: 600px; overflow:auto;\">\n",
    "        <img src=\"./examples/weread.jpg\" width=\"300\" style=\"object-fit: contain\" ></img>\n",
    "    </div>\n",
    "    <div style=\"overflow:auto;\">\n",
    "        <img src=\"./examples/pt.jpg\" width=\"600\" style=\"object-fit: contain; max-width: none\" ></img>\n",
    "    </div>\n",
    "</div>"
   ]
  },
  {
   "cell_type": "code",
   "execution_count": null,
   "metadata": {},
   "outputs": [],
   "source": []
  }
 ],
 "metadata": {
  "datalore": {
   "base_environment": "default",
   "computation_mode": "JUPYTER",
   "package_manager": "pip",
   "packages": [],
   "version": 1
  },
  "kernelspec": {
   "display_name": "Python 3",
   "language": "python",
   "name": "python3"
  },
  "language_info": {
   "codemirror_mode": {
    "name": "ipython",
    "version": 3
   },
   "file_extension": ".py",
   "mimetype": "text/x-python",
   "name": "python",
   "nbconvert_exporter": "python",
   "pygments_lexer": "ipython3",
   "version": "3.8.5"
  },
  "vscode": {
   "interpreter": {
    "hash": "40d3a090f54c6569ab1632332b64b2c03c39dcf918b08424e98f38b5ae0af88f"
   }
  }
 },
 "nbformat": 4,
 "nbformat_minor": 4
}
