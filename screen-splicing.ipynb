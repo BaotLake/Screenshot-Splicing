{
 "cells": [
  {
   "cell_type": "code",
   "execution_count": 1,
   "metadata": {
    "datalore": {
     "hide_input_from_viewers": false,
     "hide_output_from_viewers": false,
     "type": "CODE"
    }
   },
   "outputs": [
    {
     "name": "stdout",
     "output_type": "stream",
     "text": [
      "Usage: splicing.py [OPTIONS] SRC\n",
      "\n",
      "Options:\n",
      "  --crop-top FLOAT\n",
      "  --crop-bottom FLOAT\n",
      "  --expect-offset FLOAT\n",
      "  -o, --output TEXT\n",
      "  --help                 Show this message and exit.\n"
     ]
    }
   ],
   "source": [
    "!python ./splicing/splicing.py --help"
   ]
  },
  {
   "cell_type": "code",
   "execution_count": 2,
   "metadata": {
    "datalore": {
     "hide_input_from_viewers": false,
     "hide_output_from_viewers": false,
     "type": "CODE"
    }
   },
   "outputs": [
    {
     "data": {
      "text/html": [
       "\n",
       "<h1>示例视频</h1>\n",
       "<div style=\"display:flex; width: 680px; justify-content: space-between;\">\n",
       "    <video src=\"./examples/safari.MP4\" width=\"330\" height=\"480\" controls ></video>\n",
       "    <video src=\"./examples/weread.MP4\" width=\"330\" height=\"480\" controls ></video>\n",
       "</div>\n"
      ],
      "text/plain": [
       "<IPython.core.display.HTML object>"
      ]
     },
     "metadata": {},
     "output_type": "display_data"
    }
   ],
   "source": [
    "%%html\n",
    "\n",
    "<h1>示例视频</h1>\n",
    "<div style=\"display:flex; width: 680px; justify-content: space-between;\">\n",
    "    <video src=\"./examples/safari.MP4\" width=\"330\" height=\"480\" controls ></video>\n",
    "    <video src=\"./examples/weread.MP4\" width=\"330\" height=\"480\" controls ></video>\n",
    "</div>"
   ]
  },
  {
   "cell_type": "code",
   "execution_count": 3,
   "metadata": {
    "datalore": {
     "hide_input_from_viewers": false,
     "hide_output_from_viewers": false,
     "type": "CODE"
    }
   },
   "outputs": [
    {
     "name": "stdout",
     "output_type": "stream",
     "text": [
      "ffmpeg version N-100759-gb8cd37a Copyright (c) 2000-2021 the FFmpeg developers\n",
      "  built with Apple clang version 12.0.0 (clang-1200.0.32.29)\n",
      "  configuration: \n",
      "  libavutil      56. 63.101 / 56. 63.101\n",
      "  libavcodec     58.117.101 / 58.117.101\n",
      "  libavformat    58. 65.101 / 58. 65.101\n",
      "  libavdevice    58. 11.103 / 58. 11.103\n",
      "  libavfilter     7. 96.100 /  7. 96.100\n",
      "  libswscale      5.  8.100 /  5.  8.100\n",
      "  libswresample   3.  8.100 /  3.  8.100\n",
      "Input #0, mov,mp4,m4a,3gp,3g2,mj2, from './examples/safari.MP4':\n",
      "  Metadata:\n",
      "    major_brand     : mp42\n",
      "    minor_version   : 1\n",
      "    compatible_brands: isommp41mp42\n",
      "    creation_time   : 2022-07-16T07:31:16.000000Z\n",
      "  Duration: 00:00:03.03, start: 0.000000, bitrate: 20284 kb/s\n",
      "    Stream #0:0(und): Audio: aac (LC) (mp4a / 0x6134706D), 44100 Hz, stereo, fltp, 2 kb/s (default)\n",
      "    Metadata:\n",
      "      creation_time   : 2022-07-16T07:31:16.000000Z\n",
      "      handler_name    : Core Media Audio\n",
      "      vendor_id       : [0][0][0][0]\n",
      "    Stream #0:1(und): Video: h264 (High) (avc1 / 0x31637661), yuvj420p(pc, bt709/bt709/iec61966-2-1), 1334x1920, 20274 kb/s, 51.43 fps, 60 tbr, 600 tbn, 1200 tbc (default)\n",
      "    Metadata:\n",
      "      creation_time   : 2022-07-16T07:31:16.000000Z\n",
      "      handler_name    : Core Media Video\n",
      "      vendor_id       : [0][0][0][0]\n",
      "Stream mapping:\n",
      "  Stream #0:1 -> #0:0 (h264 (native) -> rawvideo (native))\n",
      "Press [q] to stop, [?] for help\n",
      "\u001b[1;34m[swscaler @ 0x129630000] \u001b[0m\u001b[0;33mdeprecated pixel format used, make sure you did set range correctly\n",
      "\u001b[0mOutput #0, rawvideo, to 'pipe:':\n",
      "  Metadata:\n",
      "    major_brand     : mp42\n",
      "    minor_version   : 1\n",
      "    compatible_brands: isommp41mp42\n",
      "    encoder         : Lavf58.65.101\n",
      "    Stream #0:0(und): Video: rawvideo (444P / 0x50343434), yuv444p(tv, bt709/bt709/iec61966-2-1, progressive), 1334x1920, q=2-31, 3688243 kb/s, 60 fps, 60 tbn (default)\n",
      "    Metadata:\n",
      "      creation_time   : 2022-07-16T07:31:16.000000Z\n",
      "      handler_name    : Core Media Video\n",
      "      vendor_id       : [0][0][0][0]\n",
      "      encoder         : Lavc58.117.101 rawvideo\n",
      "frame=  182 fps=108 q=-0.0 Lsize= 1365682kB time=00:00:03.03 bitrate=3688243.6kbits/s dup=26 drop=0 speed= 1.8x    \n",
      "video:1365682kB audio:0kB subtitle:0kB other streams:0kB global headers:0kB muxing overhead: 0.000000%\n",
      "./examples safari\n",
      "ffmpeg version N-100759-gb8cd37a Copyright (c) 2000-2021 the FFmpeg developers\n",
      "  built with Apple clang version 12.0.0 (clang-1200.0.32.29)\n",
      "  configuration: \n",
      "  libavutil      56. 63.101 / 56. 63.101\n",
      "  libavcodec     58.117.101 / 58.117.101\n",
      "  libavformat    58. 65.101 / 58. 65.101\n",
      "  libavdevice    58. 11.103 / 58. 11.103\n",
      "  libavfilter     7. 96.100 /  7. 96.100\n",
      "  libswscale      5.  8.100 /  5.  8.100\n",
      "  libswresample   3.  8.100 /  3.  8.100\n",
      "Input #0, mov,mp4,m4a,3gp,3g2,mj2, from './examples/weread.MP4':\n",
      "  Metadata:\n",
      "    major_brand     : mp42\n",
      "    minor_version   : 1\n",
      "    compatible_brands: isommp41mp42\n",
      "    creation_time   : 2022-07-16T07:48:27.000000Z\n",
      "  Duration: 00:00:03.77, start: 0.000000, bitrate: 20950 kb/s\n",
      "    Stream #0:0(und): Audio: aac (LC) (mp4a / 0x6134706D), 44100 Hz, stereo, fltp, 2 kb/s (default)\n",
      "    Metadata:\n",
      "      creation_time   : 2022-07-16T07:48:27.000000Z\n",
      "      handler_name    : Core Media Audio\n",
      "      vendor_id       : [0][0][0][0]\n",
      "    Stream #0:1(und): Video: h264 (High) (avc1 / 0x31637661), yuvj420p(pc, bt709/bt709/iec61966-2-1), 1334x1920, 20941 kb/s, 57.35 fps, 60 tbr, 600 tbn, 1200 tbc (default)\n",
      "    Metadata:\n",
      "      creation_time   : 2022-07-16T07:48:27.000000Z\n",
      "      handler_name    : Core Media Video\n",
      "      vendor_id       : [0][0][0][0]\n",
      "Stream mapping:\n",
      "  Stream #0:1 -> #0:0 (h264 (native) -> rawvideo (native))\n",
      "Press [q] to stop, [?] for help\n",
      "\u001b[1;34m[swscaler @ 0x139cd8000] \u001b[0m\u001b[0;33mdeprecated pixel format used, make sure you did set range correctly\n",
      "\u001b[0mOutput #0, rawvideo, to 'pipe:':\n",
      "  Metadata:\n",
      "    major_brand     : mp42\n",
      "    minor_version   : 1\n",
      "    compatible_brands: isommp41mp42\n",
      "    encoder         : Lavf58.65.101\n",
      "    Stream #0:0(und): Video: rawvideo (444P / 0x50343434), yuv444p(tv, bt709/bt709/iec61966-2-1, progressive), 1334x1920, q=2-31, 3688243 kb/s, 60 fps, 60 tbn (default)\n",
      "    Metadata:\n",
      "      creation_time   : 2022-07-16T07:48:27.000000Z\n",
      "      handler_name    : Core Media Video\n",
      "      vendor_id       : [0][0][0][0]\n",
      "      encoder         : Lavc58.117.101 rawvideo\n",
      "frame=  226 fps=106 q=-0.0 Lsize= 1695848kB time=00:00:03.76 bitrate=3688242.9kbits/s dup=10 drop=0 speed=1.77x    \n",
      "video:1695848kB audio:0kB subtitle:0kB other streams:0kB global headers:0kB muxing overhead: 0.000000%\n",
      "./examples weread\n"
     ]
    }
   ],
   "source": [
    "# 拼接示例视频1\n",
    "!python ./splicing/splicing.py ./examples/safari.MP4 -o ./examples/safari.jpg\n",
    "\n",
    "# 拼接示例视频2\n",
    "!python ./splicing/splicing.py ./examples/weread.MP4 -o ./examples/weread.jpg"
   ]
  },
  {
   "cell_type": "code",
   "execution_count": 4,
   "metadata": {
    "datalore": {
     "hide_input_from_viewers": false,
     "hide_output_from_viewers": false,
     "type": "CODE"
    }
   },
   "outputs": [
    {
     "data": {
      "text/html": [
       "\n",
       "<h1>示例拼接的长图</h1>\n",
       "<div style=\"display:flex\">\n",
       "    <div style=\"max-height: 900px; overflow:auto;\">\n",
       "        <img src=\"./examples/safari.jpg\" width=\"330\" style=\"object-fit: contain\" />\n",
       "    </div>\n",
       "    <div style=\"max-height: 900px; overflow:auto;\">\n",
       "        <img src=\"./examples/weread.jpg\" width=\"330\" style=\"object-fit: contain\" />\n",
       "    </div>\n",
       "</div>\n"
      ],
      "text/plain": [
       "<IPython.core.display.HTML object>"
      ]
     },
     "metadata": {},
     "output_type": "display_data"
    }
   ],
   "source": [
    "%%html\n",
    "\n",
    "<h1>示例拼接的长图</h1>\n",
    "<div style=\"display:flex\">\n",
    "    <div style=\"max-height: 900px; overflow:auto;\">\n",
    "        <img src=\"./examples/safari.jpg\" width=\"330\" style=\"object-fit: contain\" />\n",
    "    </div>\n",
    "    <div style=\"max-height: 900px; overflow:auto;\">\n",
    "        <img src=\"./examples/weread.jpg\" width=\"330\" style=\"object-fit: contain\" />\n",
    "    </div>\n",
    "</div>"
   ]
  }
 ],
 "metadata": {
  "datalore": {
   "base_environment": "default",
   "computation_mode": "JUPYTER",
   "package_manager": "pip",
   "packages": [],
   "version": 1
  },
  "kernelspec": {
   "display_name": "Python 3.8.5 ('base')",
   "language": "python",
   "name": "python3"
  },
  "language_info": {
   "codemirror_mode": {
    "name": "ipython",
    "version": 3
   },
   "file_extension": ".py",
   "mimetype": "text/x-python",
   "name": "python",
   "nbconvert_exporter": "python",
   "pygments_lexer": "ipython3",
   "version": "3.8.5"
  },
  "vscode": {
   "interpreter": {
    "hash": "40d3a090f54c6569ab1632332b64b2c03c39dcf918b08424e98f38b5ae0af88f"
   }
  }
 },
 "nbformat": 4,
 "nbformat_minor": 4
}
